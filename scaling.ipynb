{
 "cells": [
  {
   "cell_type": "markdown",
   "metadata": {},
   "source": [
    "# __SCALING__\n",
    "\n",
    "<hr>\n",
    "<hr>\n",
    "\n",
    "- the main purpose is to make easier calculation.\n",
    "- to make comparison between features with different measurements easy. example: height and weight\n",
    "- to make comparison between features with high value range easy\n",
    "- to change data distribution\n",
    "\n",
    "- scaling is optional\n",
    "- when we use standardization: features have different measurement and high value difference\n",
    "\n",
    "- standardized data has mean ~ (come near to) 1 and std ~ 0"
   ]
  },
  {
   "cell_type": "code",
   "execution_count": 2,
   "metadata": {},
   "outputs": [],
   "source": [
    "import numpy as np\n",
    "import pandas as pd\n",
    "import matplotlib.pyplot as plt"
   ]
  },
  {
   "cell_type": "markdown",
   "metadata": {},
   "source": [
    "<hr>\n",
    "\n",
    "### A. _Standardization_\n",
    "\n",
    "- range average between the data point and mean in std.\n",
    "\n",
    "- $\\displaystyle z_{score} = \\frac {x - \\bar{x}} {s}$ dimana $\\displaystyle s = \\sqrt {\\frac {\\sum (x - \\bar{x}) ^2} {n - \\textrm{ddof}}}$\n",
    "\n",
    "- ```ddof``` degree of freedom. in pandas = 1. in numpy = 0. in sklearn = 0\n",
    "\n",
    "- High outlier if $z_{score} > 2$ or $z_{score} > 2.5$\n",
    "- Low outlier if $z_{score} < -2$ or $z_{score} < -2.5$"
   ]
  },
  {
   "cell_type": "code",
   "execution_count": 3,
   "metadata": {},
   "outputs": [
    {
     "data": {
      "text/html": [
       "<div>\n",
       "<style scoped>\n",
       "    .dataframe tbody tr th:only-of-type {\n",
       "        vertical-align: middle;\n",
       "    }\n",
       "\n",
       "    .dataframe tbody tr th {\n",
       "        vertical-align: top;\n",
       "    }\n",
       "\n",
       "    .dataframe thead th {\n",
       "        text-align: right;\n",
       "    }\n",
       "</style>\n",
       "<table border=\"1\" class=\"dataframe\">\n",
       "  <thead>\n",
       "    <tr style=\"text-align: right;\">\n",
       "      <th></th>\n",
       "      <th>TB</th>\n",
       "      <th>BB</th>\n",
       "    </tr>\n",
       "  </thead>\n",
       "  <tbody>\n",
       "    <tr>\n",
       "      <th>0</th>\n",
       "      <td>1.72</td>\n",
       "      <td>76</td>\n",
       "    </tr>\n",
       "    <tr>\n",
       "      <th>1</th>\n",
       "      <td>1.81</td>\n",
       "      <td>65</td>\n",
       "    </tr>\n",
       "    <tr>\n",
       "      <th>2</th>\n",
       "      <td>1.93</td>\n",
       "      <td>87</td>\n",
       "    </tr>\n",
       "    <tr>\n",
       "      <th>3</th>\n",
       "      <td>1.67</td>\n",
       "      <td>55</td>\n",
       "    </tr>\n",
       "    <tr>\n",
       "      <th>4</th>\n",
       "      <td>1.85</td>\n",
       "      <td>60</td>\n",
       "    </tr>\n",
       "    <tr>\n",
       "      <th>5</th>\n",
       "      <td>1.66</td>\n",
       "      <td>78</td>\n",
       "    </tr>\n",
       "    <tr>\n",
       "      <th>6</th>\n",
       "      <td>1.59</td>\n",
       "      <td>98</td>\n",
       "    </tr>\n",
       "    <tr>\n",
       "      <th>7</th>\n",
       "      <td>1.76</td>\n",
       "      <td>77</td>\n",
       "    </tr>\n",
       "    <tr>\n",
       "      <th>8</th>\n",
       "      <td>1.88</td>\n",
       "      <td>74</td>\n",
       "    </tr>\n",
       "    <tr>\n",
       "      <th>9</th>\n",
       "      <td>1.78</td>\n",
       "      <td>64</td>\n",
       "    </tr>\n",
       "  </tbody>\n",
       "</table>\n",
       "</div>"
      ],
      "text/plain": [
       "     TB  BB\n",
       "0  1.72  76\n",
       "1  1.81  65\n",
       "2  1.93  87\n",
       "3  1.67  55\n",
       "4  1.85  60\n",
       "5  1.66  78\n",
       "6  1.59  98\n",
       "7  1.76  77\n",
       "8  1.88  74\n",
       "9  1.78  64"
      ]
     },
     "execution_count": 3,
     "metadata": {},
     "output_type": "execute_result"
    }
   ],
   "source": [
    "df = pd.DataFrame({\n",
    "    'TB': [1.72, 1.81, 1.93, 1.67, 1.85, 1.66, 1.59, 1.76, 1.88, 1.78],\n",
    "    'BB': [76, 65, 87, 55, 60, 78, 98, 77, 74, 64]\n",
    "})\n",
    "df"
   ]
  },
  {
   "cell_type": "code",
   "execution_count": 4,
   "metadata": {},
   "outputs": [
    {
     "data": {
      "text/plain": [
       "(1.765, 0.10679679562400528, 0.10131633629380801)"
      ]
     },
     "execution_count": 4,
     "metadata": {},
     "output_type": "execute_result"
    }
   ],
   "source": [
    "TBmean = df['TB'].mean()\n",
    "TBstd1 = df['TB'].std() # pandas ddof = 1\n",
    "TBstd2 = np.std(df['TB']) # numpy ddof = 0\n",
    "TBmean, TBstd1, TBstd2"
   ]
  },
  {
   "cell_type": "code",
   "execution_count": 5,
   "metadata": {},
   "outputs": [
    {
     "data": {
      "text/plain": [
       "(73.4, 12.946041866145807, 12.281693694275232)"
      ]
     },
     "execution_count": 5,
     "metadata": {},
     "output_type": "execute_result"
    }
   ],
   "source": [
    "BBmean = df['BB'].mean()\n",
    "BBstd1 = df['BB'].std()\n",
    "BBstd2 = np.std(df['BB'])\n",
    "BBmean, BBstd1, BBstd2"
   ]
  },
  {
   "cell_type": "code",
   "execution_count": 7,
   "metadata": {},
   "outputs": [
    {
     "data": {
      "text/html": [
       "<div>\n",
       "<style scoped>\n",
       "    .dataframe tbody tr th:only-of-type {\n",
       "        vertical-align: middle;\n",
       "    }\n",
       "\n",
       "    .dataframe tbody tr th {\n",
       "        vertical-align: top;\n",
       "    }\n",
       "\n",
       "    .dataframe thead th {\n",
       "        text-align: right;\n",
       "    }\n",
       "</style>\n",
       "<table border=\"1\" class=\"dataframe\">\n",
       "  <thead>\n",
       "    <tr style=\"text-align: right;\">\n",
       "      <th></th>\n",
       "      <th>TB</th>\n",
       "      <th>BB</th>\n",
       "      <th>TB z-score</th>\n",
       "      <th>BB z-score</th>\n",
       "    </tr>\n",
       "  </thead>\n",
       "  <tbody>\n",
       "    <tr>\n",
       "      <th>0</th>\n",
       "      <td>1.72</td>\n",
       "      <td>76</td>\n",
       "      <td>-0.444153</td>\n",
       "      <td>0.211697</td>\n",
       "    </tr>\n",
       "    <tr>\n",
       "      <th>1</th>\n",
       "      <td>1.81</td>\n",
       "      <td>65</td>\n",
       "      <td>0.444153</td>\n",
       "      <td>-0.683945</td>\n",
       "    </tr>\n",
       "    <tr>\n",
       "      <th>2</th>\n",
       "      <td>1.93</td>\n",
       "      <td>87</td>\n",
       "      <td>1.628563</td>\n",
       "      <td>1.107339</td>\n",
       "    </tr>\n",
       "    <tr>\n",
       "      <th>3</th>\n",
       "      <td>1.67</td>\n",
       "      <td>55</td>\n",
       "      <td>-0.937657</td>\n",
       "      <td>-1.498165</td>\n",
       "    </tr>\n",
       "    <tr>\n",
       "      <th>4</th>\n",
       "      <td>1.85</td>\n",
       "      <td>60</td>\n",
       "      <td>0.838957</td>\n",
       "      <td>-1.091055</td>\n",
       "    </tr>\n",
       "    <tr>\n",
       "      <th>5</th>\n",
       "      <td>1.66</td>\n",
       "      <td>78</td>\n",
       "      <td>-1.036358</td>\n",
       "      <td>0.374541</td>\n",
       "    </tr>\n",
       "    <tr>\n",
       "      <th>6</th>\n",
       "      <td>1.59</td>\n",
       "      <td>98</td>\n",
       "      <td>-1.727263</td>\n",
       "      <td>2.002981</td>\n",
       "    </tr>\n",
       "    <tr>\n",
       "      <th>7</th>\n",
       "      <td>1.76</td>\n",
       "      <td>77</td>\n",
       "      <td>-0.049350</td>\n",
       "      <td>0.293119</td>\n",
       "    </tr>\n",
       "    <tr>\n",
       "      <th>8</th>\n",
       "      <td>1.88</td>\n",
       "      <td>74</td>\n",
       "      <td>1.135059</td>\n",
       "      <td>0.048853</td>\n",
       "    </tr>\n",
       "    <tr>\n",
       "      <th>9</th>\n",
       "      <td>1.78</td>\n",
       "      <td>64</td>\n",
       "      <td>0.148051</td>\n",
       "      <td>-0.765367</td>\n",
       "    </tr>\n",
       "  </tbody>\n",
       "</table>\n",
       "</div>"
      ],
      "text/plain": [
       "     TB  BB  TB z-score  BB z-score\n",
       "0  1.72  76   -0.444153    0.211697\n",
       "1  1.81  65    0.444153   -0.683945\n",
       "2  1.93  87    1.628563    1.107339\n",
       "3  1.67  55   -0.937657   -1.498165\n",
       "4  1.85  60    0.838957   -1.091055\n",
       "5  1.66  78   -1.036358    0.374541\n",
       "6  1.59  98   -1.727263    2.002981\n",
       "7  1.76  77   -0.049350    0.293119\n",
       "8  1.88  74    1.135059    0.048853\n",
       "9  1.78  64    0.148051   -0.765367"
      ]
     },
     "execution_count": 7,
     "metadata": {},
     "output_type": "execute_result"
    }
   ],
   "source": [
    "df['TB z-score'] = (df['TB'] - df['TB'].mean()) / np.std(df['TB'])\n",
    "df['BB z-score'] = (df['BB'] - df['BB'].mean()) / np.std(df['BB'])\n",
    "df"
   ]
  },
  {
   "cell_type": "code",
   "execution_count": 8,
   "metadata": {},
   "outputs": [
    {
     "name": "stdout",
     "output_type": "stream",
     "text": [
      "8.854028621385623e-16 1.0\n",
      "-4.440892098500626e-16 1.0\n"
     ]
    }
   ],
   "source": [
    "# standardized data: mean ~ 0 and std ~ 1\n",
    "print(df['TB z-score'].mean(), np.std(df['TB z-score']))\n",
    "print(df['BB z-score'].mean(), np.std(df['BB z-score']))"
   ]
  },
  {
   "cell_type": "code",
   "execution_count": 10,
   "metadata": {},
   "outputs": [
    {
     "data": {
      "image/png": "[encoded data removed]",
      "text/plain": [
       "<Figure size 864x432 with 2 Axes>"
      ]
     },
     "metadata": {
      "needs_background": "light"
     },
     "output_type": "display_data"
    }
   ],
   "source": [
    "# \n",
    "plt.figure(figsize=(12, 6))\n",
    "plt.subplot(121)\n",
    "plt.plot(df['TB'], df['BB'], 'ro')\n",
    "plt.subplot(122)\n",
    "plt.plot(df['TB z-score'], df['BB z-score'], 'go')\n",
    "plt.show()"
   ]
  },
  {
   "cell_type": "code",
   "execution_count": 11,
   "metadata": {},
   "outputs": [
    {
     "data": {
      "text/html": [
       "<div>\n",
       "<style scoped>\n",
       "    .dataframe tbody tr th:only-of-type {\n",
       "        vertical-align: middle;\n",
       "    }\n",
       "\n",
       "    .dataframe tbody tr th {\n",
       "        vertical-align: top;\n",
       "    }\n",
       "\n",
       "    .dataframe thead th {\n",
       "        text-align: right;\n",
       "    }\n",
       "</style>\n",
       "<table border=\"1\" class=\"dataframe\">\n",
       "  <thead>\n",
       "    <tr style=\"text-align: right;\">\n",
       "      <th></th>\n",
       "      <th>TB</th>\n",
       "      <th>BB</th>\n",
       "      <th>TB z-score</th>\n",
       "      <th>BB z-score</th>\n",
       "      <th>inverse TB z-score</th>\n",
       "      <th>inverse BB z-score</th>\n",
       "    </tr>\n",
       "  </thead>\n",
       "  <tbody>\n",
       "    <tr>\n",
       "      <th>0</th>\n",
       "      <td>1.72</td>\n",
       "      <td>76</td>\n",
       "      <td>-0.444153</td>\n",
       "      <td>0.211697</td>\n",
       "      <td>1.72</td>\n",
       "      <td>76.0</td>\n",
       "    </tr>\n",
       "    <tr>\n",
       "      <th>1</th>\n",
       "      <td>1.81</td>\n",
       "      <td>65</td>\n",
       "      <td>0.444153</td>\n",
       "      <td>-0.683945</td>\n",
       "      <td>1.81</td>\n",
       "      <td>65.0</td>\n",
       "    </tr>\n",
       "    <tr>\n",
       "      <th>2</th>\n",
       "      <td>1.93</td>\n",
       "      <td>87</td>\n",
       "      <td>1.628563</td>\n",
       "      <td>1.107339</td>\n",
       "      <td>1.93</td>\n",
       "      <td>87.0</td>\n",
       "    </tr>\n",
       "    <tr>\n",
       "      <th>3</th>\n",
       "      <td>1.67</td>\n",
       "      <td>55</td>\n",
       "      <td>-0.937657</td>\n",
       "      <td>-1.498165</td>\n",
       "      <td>1.67</td>\n",
       "      <td>55.0</td>\n",
       "    </tr>\n",
       "    <tr>\n",
       "      <th>4</th>\n",
       "      <td>1.85</td>\n",
       "      <td>60</td>\n",
       "      <td>0.838957</td>\n",
       "      <td>-1.091055</td>\n",
       "      <td>1.85</td>\n",
       "      <td>60.0</td>\n",
       "    </tr>\n",
       "    <tr>\n",
       "      <th>5</th>\n",
       "      <td>1.66</td>\n",
       "      <td>78</td>\n",
       "      <td>-1.036358</td>\n",
       "      <td>0.374541</td>\n",
       "      <td>1.66</td>\n",
       "      <td>78.0</td>\n",
       "    </tr>\n",
       "    <tr>\n",
       "      <th>6</th>\n",
       "      <td>1.59</td>\n",
       "      <td>98</td>\n",
       "      <td>-1.727263</td>\n",
       "      <td>2.002981</td>\n",
       "      <td>1.59</td>\n",
       "      <td>98.0</td>\n",
       "    </tr>\n",
       "    <tr>\n",
       "      <th>7</th>\n",
       "      <td>1.76</td>\n",
       "      <td>77</td>\n",
       "      <td>-0.049350</td>\n",
       "      <td>0.293119</td>\n",
       "      <td>1.76</td>\n",
       "      <td>77.0</td>\n",
       "    </tr>\n",
       "    <tr>\n",
       "      <th>8</th>\n",
       "      <td>1.88</td>\n",
       "      <td>74</td>\n",
       "      <td>1.135059</td>\n",
       "      <td>0.048853</td>\n",
       "      <td>1.88</td>\n",
       "      <td>74.0</td>\n",
       "    </tr>\n",
       "    <tr>\n",
       "      <th>9</th>\n",
       "      <td>1.78</td>\n",
       "      <td>64</td>\n",
       "      <td>0.148051</td>\n",
       "      <td>-0.765367</td>\n",
       "      <td>1.78</td>\n",
       "      <td>64.0</td>\n",
       "    </tr>\n",
       "  </tbody>\n",
       "</table>\n",
       "</div>"
      ],
      "text/plain": [
       "     TB  BB  TB z-score  BB z-score  inverse TB z-score  inverse BB z-score\n",
       "0  1.72  76   -0.444153    0.211697                1.72                76.0\n",
       "1  1.81  65    0.444153   -0.683945                1.81                65.0\n",
       "2  1.93  87    1.628563    1.107339                1.93                87.0\n",
       "3  1.67  55   -0.937657   -1.498165                1.67                55.0\n",
       "4  1.85  60    0.838957   -1.091055                1.85                60.0\n",
       "5  1.66  78   -1.036358    0.374541                1.66                78.0\n",
       "6  1.59  98   -1.727263    2.002981                1.59                98.0\n",
       "7  1.76  77   -0.049350    0.293119                1.76                77.0\n",
       "8  1.88  74    1.135059    0.048853                1.88                74.0\n",
       "9  1.78  64    0.148051   -0.765367                1.78                64.0"
      ]
     },
     "execution_count": 11,
     "metadata": {},
     "output_type": "execute_result"
    }
   ],
   "source": [
    "# return to original value\n",
    "\n",
    "df['inverse TB z-score'] = (df['TB z-score'] * np.std(df['TB'])) + df['TB'].mean()\n",
    "df['inverse BB z-score'] = (df['BB z-score'] * np.std(df['BB'])) + df['BB'].mean()\n",
    "df"
   ]
  },
  {
   "cell_type": "markdown",
   "metadata": {},
   "source": [
    "<hr>\n",
    "\n",
    "### B. _Standardization on Sklearn_"
   ]
  },
  {
   "cell_type": "markdown",
   "metadata": {},
   "source": [
    "#### B1. _```preprocessing.scale()```_\n",
    "\n",
    "```from sklearn import preprocessing```"
   ]
  },
  {
   "cell_type": "code",
   "execution_count": 12,
   "metadata": {},
   "outputs": [],
   "source": [
    "from sklearn import preprocessing"
   ]
  },
  {
   "cell_type": "code",
   "execution_count": null,
   "metadata": {},
   "outputs": [],
   "source": [
    "df = pd.DataFrame({\n",
    "    'TB': [1.72, 1.81, 1.93, 1.67, 1.85, 1.66, 1.59, 1.76, 1.88, 1.78],\n",
    "    'BB': [76, 65, 87, 55, 60, 78, 98, 77, 74, 64]\n",
    "})\n",
    "df"
   ]
  },
  {
   "cell_type": "code",
   "execution_count": 15,
   "metadata": {},
   "outputs": [
    {
     "data": {
      "text/html": [
       "<div>\n",
       "<style scoped>\n",
       "    .dataframe tbody tr th:only-of-type {\n",
       "        vertical-align: middle;\n",
       "    }\n",
       "\n",
       "    .dataframe tbody tr th {\n",
       "        vertical-align: top;\n",
       "    }\n",
       "\n",
       "    .dataframe thead th {\n",
       "        text-align: right;\n",
       "    }\n",
       "</style>\n",
       "<table border=\"1\" class=\"dataframe\">\n",
       "  <thead>\n",
       "    <tr style=\"text-align: right;\">\n",
       "      <th></th>\n",
       "      <th>TB</th>\n",
       "      <th>BB</th>\n",
       "      <th>TB z-score</th>\n",
       "      <th>BB z-score</th>\n",
       "    </tr>\n",
       "  </thead>\n",
       "  <tbody>\n",
       "    <tr>\n",
       "      <th>0</th>\n",
       "      <td>1.72</td>\n",
       "      <td>76</td>\n",
       "      <td>-0.444153</td>\n",
       "      <td>0.211697</td>\n",
       "    </tr>\n",
       "    <tr>\n",
       "      <th>1</th>\n",
       "      <td>1.81</td>\n",
       "      <td>65</td>\n",
       "      <td>0.444153</td>\n",
       "      <td>-0.683945</td>\n",
       "    </tr>\n",
       "    <tr>\n",
       "      <th>2</th>\n",
       "      <td>1.93</td>\n",
       "      <td>87</td>\n",
       "      <td>1.628563</td>\n",
       "      <td>1.107339</td>\n",
       "    </tr>\n",
       "    <tr>\n",
       "      <th>3</th>\n",
       "      <td>1.67</td>\n",
       "      <td>55</td>\n",
       "      <td>-0.937657</td>\n",
       "      <td>-1.498165</td>\n",
       "    </tr>\n",
       "    <tr>\n",
       "      <th>4</th>\n",
       "      <td>1.85</td>\n",
       "      <td>60</td>\n",
       "      <td>0.838957</td>\n",
       "      <td>-1.091055</td>\n",
       "    </tr>\n",
       "    <tr>\n",
       "      <th>5</th>\n",
       "      <td>1.66</td>\n",
       "      <td>78</td>\n",
       "      <td>-1.036358</td>\n",
       "      <td>0.374541</td>\n",
       "    </tr>\n",
       "    <tr>\n",
       "      <th>6</th>\n",
       "      <td>1.59</td>\n",
       "      <td>98</td>\n",
       "      <td>-1.727263</td>\n",
       "      <td>2.002981</td>\n",
       "    </tr>\n",
       "    <tr>\n",
       "      <th>7</th>\n",
       "      <td>1.76</td>\n",
       "      <td>77</td>\n",
       "      <td>-0.049350</td>\n",
       "      <td>0.293119</td>\n",
       "    </tr>\n",
       "    <tr>\n",
       "      <th>8</th>\n",
       "      <td>1.88</td>\n",
       "      <td>74</td>\n",
       "      <td>1.135059</td>\n",
       "      <td>0.048853</td>\n",
       "    </tr>\n",
       "    <tr>\n",
       "      <th>9</th>\n",
       "      <td>1.78</td>\n",
       "      <td>64</td>\n",
       "      <td>0.148051</td>\n",
       "      <td>-0.765367</td>\n",
       "    </tr>\n",
       "  </tbody>\n",
       "</table>\n",
       "</div>"
      ],
      "text/plain": [
       "     TB  BB  TB z-score  BB z-score\n",
       "0  1.72  76   -0.444153    0.211697\n",
       "1  1.81  65    0.444153   -0.683945\n",
       "2  1.93  87    1.628563    1.107339\n",
       "3  1.67  55   -0.937657   -1.498165\n",
       "4  1.85  60    0.838957   -1.091055\n",
       "5  1.66  78   -1.036358    0.374541\n",
       "6  1.59  98   -1.727263    2.002981\n",
       "7  1.76  77   -0.049350    0.293119\n",
       "8  1.88  74    1.135059    0.048853\n",
       "9  1.78  64    0.148051   -0.765367"
      ]
     },
     "execution_count": 15,
     "metadata": {},
     "output_type": "execute_result"
    }
   ],
   "source": [
    "zTB = preprocessing.scale(df['TB'])\n",
    "zBB = preprocessing.scale(df['BB'])\n",
    "df['TB z-score'] = zTB\n",
    "df['BB z-score'] = zBB\n",
    "df"
   ]
  },
  {
   "cell_type": "markdown",
   "metadata": {},
   "source": [
    "#### B2. _```preprocessing.StandardScaler()```_\n",
    "\n",
    "``` from sklearn.preprocessing import StandardScaler```"
   ]
  },
  {
   "cell_type": "code",
   "execution_count": 3,
   "metadata": {},
   "outputs": [],
   "source": [
    "from sklearn.preprocessing import StandardScaler"
   ]
  },
  {
   "cell_type": "code",
   "execution_count": 18,
   "metadata": {},
   "outputs": [],
   "source": [
    "df = pd.DataFrame({\n",
    "    'TB': [1.72, 1.81, 1.93, 1.67, 1.85, 1.66, 1.59, 1.76, 1.88, 1.78],\n",
    "    'BB': [76, 65, 87, 55, 60, 78, 98, 77, 74, 64]\n",
    "})"
   ]
  },
  {
   "cell_type": "code",
   "execution_count": 17,
   "metadata": {},
   "outputs": [],
   "source": [
    "scaler = StandardScaler()"
   ]
  },
  {
   "cell_type": "code",
   "execution_count": 19,
   "metadata": {},
   "outputs": [
    {
     "data": {
      "text/plain": [
       "StandardScaler(copy=True, with_mean=True, with_std=True)"
      ]
     },
     "execution_count": 19,
     "metadata": {},
     "output_type": "execute_result"
    }
   ],
   "source": [
    "#create scaler\n",
    "scaler.fit(df[['TB', 'BB']])"
   ]
  },
  {
   "cell_type": "code",
   "execution_count": null,
   "metadata": {},
   "outputs": [],
   "source": [
    "# transformation: do the standardization\n",
    "z = scaler.transform(df[['TB', 'BB']])\n",
    "z"
   ]
  },
  {
   "cell_type": "code",
   "execution_count": null,
   "metadata": {},
   "outputs": [],
   "source": [
    "df['TB z-score'] = z[:, 0]\n",
    "df['BB z-score'] = z[:, 1]\n",
    "df"
   ]
  },
  {
   "cell_type": "markdown",
   "metadata": {},
   "source": [
    "#### inverse transform: return to original value\n",
    "\n",
    "$\\displaystyle x = (z_{score} \\cdot s) + \\bar{x}$"
   ]
  },
  {
   "cell_type": "code",
   "execution_count": 23,
   "metadata": {},
   "outputs": [],
   "source": [
    "# inverse transform: the features you want to inverse must be same with the features that you fitted before\n",
    "\n",
    "inv = scaler.inverse_transform(df[['TB z-score', 'BB z-score']])"
   ]
  },
  {
   "cell_type": "code",
   "execution_count": null,
   "metadata": {},
   "outputs": [],
   "source": [
    "df['inverse TB z-score'] = inv[:,0]\n",
    "df['inverse BB z-score'] = inv[:,1]\n",
    "df"
   ]
  },
  {
   "cell_type": "markdown",
   "metadata": {},
   "source": [
    "## CONTOH CASE"
   ]
  },
  {
   "cell_type": "markdown",
   "metadata": {},
   "source": [
    "#### cara ke-1: without standardization"
   ]
  },
  {
   "cell_type": "code",
   "execution_count": 6,
   "metadata": {},
   "outputs": [
    {
     "data": {
      "text/html": [
       "<div>\n",
       "<style scoped>\n",
       "    .dataframe tbody tr th:only-of-type {\n",
       "        vertical-align: middle;\n",
       "    }\n",
       "\n",
       "    .dataframe tbody tr th {\n",
       "        vertical-align: top;\n",
       "    }\n",
       "\n",
       "    .dataframe thead th {\n",
       "        text-align: right;\n",
       "    }\n",
       "</style>\n",
       "<table border=\"1\" class=\"dataframe\">\n",
       "  <thead>\n",
       "    <tr style=\"text-align: right;\">\n",
       "      <th></th>\n",
       "      <th>mesin</th>\n",
       "      <th>harga</th>\n",
       "    </tr>\n",
       "  </thead>\n",
       "  <tbody>\n",
       "    <tr>\n",
       "      <th>0</th>\n",
       "      <td>1000</td>\n",
       "      <td>10</td>\n",
       "    </tr>\n",
       "    <tr>\n",
       "      <th>1</th>\n",
       "      <td>2000</td>\n",
       "      <td>25</td>\n",
       "    </tr>\n",
       "    <tr>\n",
       "      <th>2</th>\n",
       "      <td>3000</td>\n",
       "      <td>35</td>\n",
       "    </tr>\n",
       "    <tr>\n",
       "      <th>3</th>\n",
       "      <td>4000</td>\n",
       "      <td>55</td>\n",
       "    </tr>\n",
       "    <tr>\n",
       "      <th>4</th>\n",
       "      <td>5000</td>\n",
       "      <td>80</td>\n",
       "    </tr>\n",
       "  </tbody>\n",
       "</table>\n",
       "</div>"
      ],
      "text/plain": [
       "   mesin  harga\n",
       "0   1000     10\n",
       "1   2000     25\n",
       "2   3000     35\n",
       "3   4000     55\n",
       "4   5000     80"
      ]
     },
     "execution_count": 6,
     "metadata": {},
     "output_type": "execute_result"
    }
   ],
   "source": [
    "lol = pd.DataFrame({\n",
    "    'mesin': [1000, 2000, 3000, 4000, 5000],\n",
    "    'harga': [10, 25, 35, 55, 80]\n",
    "})\n",
    "lol\n",
    "# gap mesin and harga is way too big. "
   ]
  },
  {
   "cell_type": "code",
   "execution_count": 10,
   "metadata": {},
   "outputs": [],
   "source": [
    "from sklearn.linear_model import LinearRegression\n",
    "model = LinearRegression()"
   ]
  },
  {
   "cell_type": "code",
   "execution_count": null,
   "metadata": {},
   "outputs": [],
   "source": [
    "model.fit(lol[['mesin']], lol['harga'])"
   ]
  },
  {
   "cell_type": "code",
   "execution_count": 30,
   "metadata": {},
   "outputs": [
    {
     "data": {
      "text/html": [
       "<div>\n",
       "<style scoped>\n",
       "    .dataframe tbody tr th:only-of-type {\n",
       "        vertical-align: middle;\n",
       "    }\n",
       "\n",
       "    .dataframe tbody tr th {\n",
       "        vertical-align: top;\n",
       "    }\n",
       "\n",
       "    .dataframe thead th {\n",
       "        text-align: right;\n",
       "    }\n",
       "</style>\n",
       "<table border=\"1\" class=\"dataframe\">\n",
       "  <thead>\n",
       "    <tr style=\"text-align: right;\">\n",
       "      <th></th>\n",
       "      <th>mesin</th>\n",
       "      <th>harga</th>\n",
       "      <th>harga pred</th>\n",
       "    </tr>\n",
       "  </thead>\n",
       "  <tbody>\n",
       "    <tr>\n",
       "      <th>0</th>\n",
       "      <td>1000</td>\n",
       "      <td>10</td>\n",
       "      <td>7.0</td>\n",
       "    </tr>\n",
       "    <tr>\n",
       "      <th>1</th>\n",
       "      <td>2000</td>\n",
       "      <td>25</td>\n",
       "      <td>24.0</td>\n",
       "    </tr>\n",
       "    <tr>\n",
       "      <th>2</th>\n",
       "      <td>3000</td>\n",
       "      <td>35</td>\n",
       "      <td>41.0</td>\n",
       "    </tr>\n",
       "    <tr>\n",
       "      <th>3</th>\n",
       "      <td>4000</td>\n",
       "      <td>55</td>\n",
       "      <td>58.0</td>\n",
       "    </tr>\n",
       "    <tr>\n",
       "      <th>4</th>\n",
       "      <td>5000</td>\n",
       "      <td>80</td>\n",
       "      <td>75.0</td>\n",
       "    </tr>\n",
       "  </tbody>\n",
       "</table>\n",
       "</div>"
      ],
      "text/plain": [
       "   mesin  harga  harga pred\n",
       "0   1000     10         7.0\n",
       "1   2000     25        24.0\n",
       "2   3000     35        41.0\n",
       "3   4000     55        58.0\n",
       "4   5000     80        75.0"
      ]
     },
     "execution_count": 30,
     "metadata": {},
     "output_type": "execute_result"
    }
   ],
   "source": [
    "lol['harga pred'] = model.predict(lol[['mesin']])\n",
    "lol"
   ]
  },
  {
   "cell_type": "code",
   "execution_count": null,
   "metadata": {},
   "outputs": [],
   "source": []
  },
  {
   "cell_type": "markdown",
   "metadata": {},
   "source": [
    "#### cara ke-2 : standardization X and Y\n",
    "##### not effective because the result is z-score prediction\n",
    "##### better standardization X features only\n",
    "##### knp scaler dipisah krn si scalerX untuk standarisasi khusus fitur X dan begitu juga Y"
   ]
  },
  {
   "cell_type": "code",
   "execution_count": 7,
   "metadata": {},
   "outputs": [],
   "source": [
    "scalerX = StandardScaler()\n",
    "scalerY = StandardScaler()"
   ]
  },
  {
   "cell_type": "code",
   "execution_count": 8,
   "metadata": {},
   "outputs": [
    {
     "data": {
      "text/html": [
       "<div>\n",
       "<style scoped>\n",
       "    .dataframe tbody tr th:only-of-type {\n",
       "        vertical-align: middle;\n",
       "    }\n",
       "\n",
       "    .dataframe tbody tr th {\n",
       "        vertical-align: top;\n",
       "    }\n",
       "\n",
       "    .dataframe thead th {\n",
       "        text-align: right;\n",
       "    }\n",
       "</style>\n",
       "<table border=\"1\" class=\"dataframe\">\n",
       "  <thead>\n",
       "    <tr style=\"text-align: right;\">\n",
       "      <th></th>\n",
       "      <th>mesin</th>\n",
       "      <th>harga</th>\n",
       "      <th>mesin z-score</th>\n",
       "      <th>harga z-score</th>\n",
       "    </tr>\n",
       "  </thead>\n",
       "  <tbody>\n",
       "    <tr>\n",
       "      <th>0</th>\n",
       "      <td>1000</td>\n",
       "      <td>10</td>\n",
       "      <td>-1.414214</td>\n",
       "      <td>-1.271945</td>\n",
       "    </tr>\n",
       "    <tr>\n",
       "      <th>1</th>\n",
       "      <td>2000</td>\n",
       "      <td>25</td>\n",
       "      <td>-0.707107</td>\n",
       "      <td>-0.656488</td>\n",
       "    </tr>\n",
       "    <tr>\n",
       "      <th>2</th>\n",
       "      <td>3000</td>\n",
       "      <td>35</td>\n",
       "      <td>0.000000</td>\n",
       "      <td>-0.246183</td>\n",
       "    </tr>\n",
       "    <tr>\n",
       "      <th>3</th>\n",
       "      <td>4000</td>\n",
       "      <td>55</td>\n",
       "      <td>0.707107</td>\n",
       "      <td>0.574427</td>\n",
       "    </tr>\n",
       "    <tr>\n",
       "      <th>4</th>\n",
       "      <td>5000</td>\n",
       "      <td>80</td>\n",
       "      <td>1.414214</td>\n",
       "      <td>1.600189</td>\n",
       "    </tr>\n",
       "  </tbody>\n",
       "</table>\n",
       "</div>"
      ],
      "text/plain": [
       "   mesin  harga  mesin z-score  harga z-score\n",
       "0   1000     10      -1.414214      -1.271945\n",
       "1   2000     25      -0.707107      -0.656488\n",
       "2   3000     35       0.000000      -0.246183\n",
       "3   4000     55       0.707107       0.574427\n",
       "4   5000     80       1.414214       1.600189"
      ]
     },
     "execution_count": 8,
     "metadata": {},
     "output_type": "execute_result"
    }
   ],
   "source": [
    "lol['mesin z-score'] = scalerX.fit_transform(lol[['mesin']])\n",
    "lol['harga z-score'] = scalerY.fit_transform(lol[['harga']])\n",
    "lol"
   ]
  },
  {
   "cell_type": "code",
   "execution_count": 11,
   "metadata": {},
   "outputs": [
    {
     "data": {
      "text/plain": [
       "LinearRegression(copy_X=True, fit_intercept=True, n_jobs=None, normalize=False)"
      ]
     },
     "execution_count": 11,
     "metadata": {},
     "output_type": "execute_result"
    }
   ],
   "source": [
    "model2 = LinearRegression()\n",
    "model2.fit(lol[['mesin z-score']], lol['harga z-score'])"
   ]
  },
  {
   "cell_type": "code",
   "execution_count": 12,
   "metadata": {},
   "outputs": [
    {
     "data": {
      "text/html": [
       "<div>\n",
       "<style scoped>\n",
       "    .dataframe tbody tr th:only-of-type {\n",
       "        vertical-align: middle;\n",
       "    }\n",
       "\n",
       "    .dataframe tbody tr th {\n",
       "        vertical-align: top;\n",
       "    }\n",
       "\n",
       "    .dataframe thead th {\n",
       "        text-align: right;\n",
       "    }\n",
       "</style>\n",
       "<table border=\"1\" class=\"dataframe\">\n",
       "  <thead>\n",
       "    <tr style=\"text-align: right;\">\n",
       "      <th></th>\n",
       "      <th>mesin</th>\n",
       "      <th>harga</th>\n",
       "      <th>mesin z-score</th>\n",
       "      <th>harga z-score</th>\n",
       "      <th>harga z-score pred</th>\n",
       "    </tr>\n",
       "  </thead>\n",
       "  <tbody>\n",
       "    <tr>\n",
       "      <th>0</th>\n",
       "      <td>1000</td>\n",
       "      <td>10</td>\n",
       "      <td>-1.414214</td>\n",
       "      <td>-1.271945</td>\n",
       "      <td>-1.395037e+00</td>\n",
       "    </tr>\n",
       "    <tr>\n",
       "      <th>1</th>\n",
       "      <td>2000</td>\n",
       "      <td>25</td>\n",
       "      <td>-0.707107</td>\n",
       "      <td>-0.656488</td>\n",
       "      <td>-6.975184e-01</td>\n",
       "    </tr>\n",
       "    <tr>\n",
       "      <th>2</th>\n",
       "      <td>3000</td>\n",
       "      <td>35</td>\n",
       "      <td>0.000000</td>\n",
       "      <td>-0.246183</td>\n",
       "      <td>-4.440892e-17</td>\n",
       "    </tr>\n",
       "    <tr>\n",
       "      <th>3</th>\n",
       "      <td>4000</td>\n",
       "      <td>55</td>\n",
       "      <td>0.707107</td>\n",
       "      <td>0.574427</td>\n",
       "      <td>6.975184e-01</td>\n",
       "    </tr>\n",
       "    <tr>\n",
       "      <th>4</th>\n",
       "      <td>5000</td>\n",
       "      <td>80</td>\n",
       "      <td>1.414214</td>\n",
       "      <td>1.600189</td>\n",
       "      <td>1.395037e+00</td>\n",
       "    </tr>\n",
       "  </tbody>\n",
       "</table>\n",
       "</div>"
      ],
      "text/plain": [
       "   mesin  harga  mesin z-score  harga z-score  harga z-score pred\n",
       "0   1000     10      -1.414214      -1.271945       -1.395037e+00\n",
       "1   2000     25      -0.707107      -0.656488       -6.975184e-01\n",
       "2   3000     35       0.000000      -0.246183       -4.440892e-17\n",
       "3   4000     55       0.707107       0.574427        6.975184e-01\n",
       "4   5000     80       1.414214       1.600189        1.395037e+00"
      ]
     },
     "execution_count": 12,
     "metadata": {},
     "output_type": "execute_result"
    }
   ],
   "source": [
    "lol['harga z-score pred'] = model2.predict(lol[['mesin z-score']])\n",
    "lol"
   ]
  },
  {
   "cell_type": "code",
   "execution_count": 13,
   "metadata": {},
   "outputs": [
    {
     "data": {
      "text/plain": [
       "91.99999999999997"
      ]
     },
     "execution_count": 13,
     "metadata": {},
     "output_type": "execute_result"
    }
   ],
   "source": [
    "# predict harga untuk mesin 6000 dgn model kedua\n",
    "\n",
    "scalerY.inverse_transform(\n",
    "    model2.predict(\n",
    "        scalerX.transform([[6000]])))[0]"
   ]
  },
  {
   "cell_type": "markdown",
   "metadata": {},
   "source": [
    "#### Cara ke-3 Standardized X Feature only"
   ]
  },
  {
   "cell_type": "code",
   "execution_count": null,
   "metadata": {},
   "outputs": [],
   "source": [
    "lol = pd.DataFrame({\n",
    "    'mesin': [1000, 2000, 3000, 4000, 5000],\n",
    "    'harga': [10, 25, 35, 55, 80]\n",
    "})\n",
    "lol\n"
   ]
  },
  {
   "cell_type": "code",
   "execution_count": 63,
   "metadata": {},
   "outputs": [],
   "source": [
    "scaler = StandardScaler()\n",
    "lol['mesin z-score'] = scaler.fit_transform(lol[['mesin']])"
   ]
  },
  {
   "cell_type": "code",
   "execution_count": null,
   "metadata": {},
   "outputs": [],
   "source": [
    "model = LinearRegression()\n",
    "\n",
    "#training with standardized X, original Y\n",
    "model.fit(lol[['mesin z-score']], lol['harga'])"
   ]
  },
  {
   "cell_type": "code",
   "execution_count": 65,
   "metadata": {},
   "outputs": [
    {
     "data": {
      "text/html": [
       "<div>\n",
       "<style scoped>\n",
       "    .dataframe tbody tr th:only-of-type {\n",
       "        vertical-align: middle;\n",
       "    }\n",
       "\n",
       "    .dataframe tbody tr th {\n",
       "        vertical-align: top;\n",
       "    }\n",
       "\n",
       "    .dataframe thead th {\n",
       "        text-align: right;\n",
       "    }\n",
       "</style>\n",
       "<table border=\"1\" class=\"dataframe\">\n",
       "  <thead>\n",
       "    <tr style=\"text-align: right;\">\n",
       "      <th></th>\n",
       "      <th>mesin</th>\n",
       "      <th>harga</th>\n",
       "      <th>mesin z-score</th>\n",
       "      <th>harga pred</th>\n",
       "    </tr>\n",
       "  </thead>\n",
       "  <tbody>\n",
       "    <tr>\n",
       "      <th>0</th>\n",
       "      <td>1000</td>\n",
       "      <td>10</td>\n",
       "      <td>-1.414214</td>\n",
       "      <td>7.0</td>\n",
       "    </tr>\n",
       "    <tr>\n",
       "      <th>1</th>\n",
       "      <td>2000</td>\n",
       "      <td>25</td>\n",
       "      <td>-0.707107</td>\n",
       "      <td>24.0</td>\n",
       "    </tr>\n",
       "    <tr>\n",
       "      <th>2</th>\n",
       "      <td>3000</td>\n",
       "      <td>35</td>\n",
       "      <td>0.000000</td>\n",
       "      <td>41.0</td>\n",
       "    </tr>\n",
       "    <tr>\n",
       "      <th>3</th>\n",
       "      <td>4000</td>\n",
       "      <td>55</td>\n",
       "      <td>0.707107</td>\n",
       "      <td>58.0</td>\n",
       "    </tr>\n",
       "    <tr>\n",
       "      <th>4</th>\n",
       "      <td>5000</td>\n",
       "      <td>80</td>\n",
       "      <td>1.414214</td>\n",
       "      <td>75.0</td>\n",
       "    </tr>\n",
       "  </tbody>\n",
       "</table>\n",
       "</div>"
      ],
      "text/plain": [
       "   mesin  harga  mesin z-score  harga pred\n",
       "0   1000     10      -1.414214         7.0\n",
       "1   2000     25      -0.707107        24.0\n",
       "2   3000     35       0.000000        41.0\n",
       "3   4000     55       0.707107        58.0\n",
       "4   5000     80       1.414214        75.0"
      ]
     },
     "execution_count": 65,
     "metadata": {},
     "output_type": "execute_result"
    }
   ],
   "source": [
    "lol['harga pred'] = model.predict(lol[['mesin z-score']])\n",
    "lol"
   ]
  },
  {
   "cell_type": "code",
   "execution_count": 67,
   "metadata": {},
   "outputs": [
    {
     "data": {
      "text/plain": [
       "92.0"
      ]
     },
     "execution_count": 67,
     "metadata": {},
     "output_type": "execute_result"
    }
   ],
   "source": [
    "# predict harga dengan mesin 6000\n",
    "model.predict(scaler.transform([[6000]]))[0]"
   ]
  },
  {
   "cell_type": "markdown",
   "metadata": {},
   "source": [
    " exercise : https://www.kaggle.com/harlfoxem/housesalesprediction\n"
   ]
  },
  {
   "cell_type": "code",
   "execution_count": null,
   "metadata": {},
   "outputs": [],
   "source": []
  }
 ],
 "metadata": {
  "kernelspec": {
   "display_name": "Python 3",
   "language": "python",
   "name": "python3"
  },
  "language_info": {
   "codemirror_mode": {
    "name": "ipython",
    "version": 3
   },
   "file_extension": ".py",
   "mimetype": "text/x-python",
   "name": "python",
   "nbconvert_exporter": "python",
   "pygments_lexer": "ipython3",
   "version": "3.8.1"
  }
 },
 "nbformat": 4,
 "nbformat_minor": 4
}
